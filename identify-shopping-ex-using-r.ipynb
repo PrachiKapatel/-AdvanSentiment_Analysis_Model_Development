# %% [code]
# %% [code] {"_execution_state":"idle"}
# This R environment comes with many helpful analytics packages installed
# It is defined by the kaggle/rstats Docker image: https://github.com/kaggle/docker-rstats
# For example, here's a helpful package to load

library(tidyverse) # metapackage of all tidyverse packages

# Input data files are available in the read-only "../input/" directory
# For example, running this (by clicking run or pressing Shift+Enter) will list all files under the input directory

list.files(path = "../input")

# You can write up to 20GB to the current directory (/kaggle/working/) that gets preserved as output when you create a version using "Save & Run All" 
# You can also write temporary files to /kaggle/temp/, but they won't be saved outside of the current session

# %% [code] {"execution":{"iopub.status.busy":"2024-07-23T20:46:54.606529Z","iopub.execute_input":"2024-07-23T20:46:54.608954Z","iopub.status.idle":"2024-07-23T20:46:55.196421Z"}}
# midterm project
# Load the ggplot2 package
library(ggplot2)
library(dplyr)

#load data
mydata = read.csv("/kaggle/input/customer-shopping-trends-dataset/shopping_trends_updated.csv")

#display data
mydata

typeof(mydata)

head(mydata)

#summary of data
summary(mydata)


#columns 
column_names <- colnames(mydata)
column_names

#information about our data
str(mydata)

#The sample_frac function returns randomly N% of rows. In the example below, it returns randomly 10% of rows.
#sample_frac(mydata,0.1)

#check for null values
is_null_values <- sapply(mydata, function(x) sum(is.na(x)))

colors <- c("#89CFF0", "#FF69B4", "#FFD700", "#7B68EE", "#FF4500",
            "#9370DB", "#32CD32", "#8A2BE2", "#FF6347", "#20B2AA",
            "#FF69B4", "#00CED1", "#FF7F50", "#7FFF00", "#DA70D6")


df <- as.data.frame(mydata)

gender_counts_df <- as.data.frame(table(df$Gender))
names(gender_counts_df) <- c("Gender", "Count")
   
# purchase Gender wise     
# Create the bar plot
ggplot(data = gender_counts_df, aes(x = Gender, y = Count)) +
  geom_bar(stat = "identity", fill = c("pink", "blue")) + # change colors as needed
  geom_text(aes(label = Count), vjust = -0.3, size = 3.5, color = "black") +
  theme_minimal() +
  theme(axis.text=element_text(size=15)) +
  labs(x = "Employment Type", y = "Number of Occurrences", 
       title = "",
       subtitle = "",
       caption = "",
       x.title.theme = element_text(face = "bold", color = "#D71313", size = 14),
       y.title.theme = element_text(face = "bold", color = "#D71313", size = 14))

# Sort data Agewise
ggplot(df, aes(x=Age)) +
  geom_histogram(aes(y=..density..), colour="black", fill="skyblue", bins=25, alpha=0.7) +
  geom_density(alpha=.2, fill="#FF6666") +
  labs(x="Age", y="Count / Density", title="Age Distribution Histogram with Density Curve") +
  theme_minimal()

# unique categories exists :
category_counts <- table(df$Category)
barplot(category_counts, main = "Category Counts", xlab = "Category", ylab = "Count")

#unique item purchased
item_counts <- table(df$Item.Purchased)
# Create the bar
barplot(item_counts, main = "Item Purchased Counts", ylab = "Count", col = colors, las= 2)
# Add labels
mtext(side = 1, text = names(item_counts), at = 1:length(item_counts), las = 2)


# Calculate color counts
color_counts <- df %>% 
  count(Color) %>% 
  arrange(n) %>% 
  tail(10)

# Create the plot
ggplot(color_counts, aes(x = reorder(Color, n), y = n)) +
  geom_bar(stat = "identity", fill = rainbow(10), color = "black") +
  theme_minimal() +
  theme(axis.text.x = element_text(angle = 0, hjust = 0.5, size = 16),
        axis.title.x = element_text(face = "bold", color = "#D71313", size = 14),
        axis.title.y = element_text(face = "bold", color = "#D71313", size = 14)) +
  labs(x = "Color", y = "\nNumber of Occurrences") +
  coord_flip()


#season analysis
# Count the occurrences of each season
df_count <- df %>%
  group_by(Season) %>%
  summarise(n = n())

# Create bar plot
ggplot(df_count, aes(x = Season, y = n, fill = Season)) +
  geom_bar(stat = "identity") +
  scale_fill_manual(values = colors) +
  theme(axis.text=element_text(size=15),
        axis.title=element_text(size=14,face="bold", color = "#D71313")) +
  labs(x = "Season", y = "Number of Occurrences") +
  coord_flip()


# Create pie chart
ggplot(df_count, aes(x = "", y = n, fill = Season)) +
  geom_bar(width = 1, stat = "identity") +
  coord_polar("y", start=0) +
  scale_fill_manual(values = colors) +
  theme(axis.text=element_text(size=12),
        axis.title=element_text(size=14,face="bold", color = "#2F0F5D")) +
  labs(x = "Size", y = "") +
  guides(fill=guide_legend(title="Season"))

#subscription status
# Count the occurrences of each subscription status
df_count <- df %>%
  group_by(`Subscription.Status`) %>%
  summarise(n = n())

# Create bar plot
ggplot(df_count, aes(x = `Subscription.Status`, y = n, fill = `Subscription.Status`)) +
  geom_bar(stat = "identity") +
  scale_fill_manual(values = colors) +
  theme(axis.text=element_text(size=15),
        axis.title=element_text(size=14,face="bold", color = "#D71313")) +
  labs(x = "Subscription Status", y = "Number of Occurrences") 
 


#payment method

# Count the occurrences of each payment method
df_count <- df %>%
  group_by(`Payment.Method`) %>%
  summarise(n = n())

# Create bar plot
ggplot(df_count, aes(x = `Payment.Method`, y = n, fill = `Payment.Method`)) +
  geom_bar(stat = "identity") +
  scale_fill_manual(values = colors) +
  theme(axis.text=element_text(size=15),
        axis.title=element_text(size=14,face="bold", color = "#D71313")) +
  labs(x = "Payment Method", y = "Number of Occurrences") +
  coord_flip()

library(dplyr)

# Calculate frequency of purchases
df_freq <- df %>%
  count(`Frequency.of.Purchases`) %>%
  arrange(desc(n))


# Create pie chart
ggplot(df_freq, aes(x = "", y = n, fill = `Frequency.of.Purchases`)) +
  geom_bar(width = 1, stat = "identity") +
  coord_polar("y", start=0) +
  theme_void() +
  theme(legend.position="right") +
  scale_fill_manual(values = colors) +
  geom_text(aes(label = paste0(round(n/sum(n)*100,1), "%")), 
            position = position_stack(vjust = 0.5)) +
  labs(x = NULL, y = NULL, fill = "Frequency.of.Purchases",
       title = "") +
  theme(plot.title = element_text(hjust = 0.5, face="bold", color="#2F0F5D", size=14))

# Calculate the average age of customers
average_age <- mean(df$Age)
cat("Average Age:", average_age, "\n")

# Find the most common item purchased
item_counts <- table(df$Item.Purchased)
most_common_item <- names(item_counts[which.max(item_counts)])
cat("Most Common Item Purchased:", most_common_item, "\n")

# Count customers who opted for subscription
subscription_count <- sum(df$`Subscription.Status` == 'Yes', na.rm = TRUE)
print(paste("Number of Customers with Subscription: ", subscription_count))

# Calculate average purchase amount for customers with a subscription status of 'Yes' and 'No'
avg_purchase_subscription_yes <- mean(df[df$`Subscription.Status` == 'Yes', 'Purchase.Amount..USD.'], na.rm = TRUE)
avg_purchase_subscription_no <- mean(df[df$`Subscription.Status` == 'No', 'Purchase.Amount..USD.'], na.rm = TRUE)

print(paste("Average Purchase Amount for Subscription 'Yes':", avg_purchase_subscription_yes))
print(paste("Average Purchase Amount for Subscription 'No':", avg_purchase_subscription_no))

# Count customers who used promo code
promo_code_count <- sum(df$`Promo.Code.Used` == 'Yes', na.rm = TRUE)
print(paste("Number of Customers who used Promo Code:", promo_code_count))

# Count customers who made more than 30 previous purchases
customers_above_30_previous_purchases <- sum(df$`Previous.Purchases` > 30, na.rm = TRUE)
print(paste("Number of Customers with more than 30 Previous Purchases:", customers_above_30_previous_purchases))

# Calculate total purchase amount for customers with a 'Free Shipping' shipping type
total_purchase_free_shipping <- sum(df[df$`Shipping.Type` == 'Free Shipping', 'Purchase.Amount..USD.'], na.rm = TRUE)
print(paste("Total Purchase Amount for 'Free Shipping' Shipping Type:", total_purchase_free_shipping))

# Calculate total purchase amount for each size of clothing items
total_purchase_by_size <- df[df$Category == 'Clothing', ] %>%
  group_by(Size) %>%
  summarise(Total_Purchase = sum(`Purchase.Amount..USD.`, na.rm = TRUE))

print("Total Purchase Amount by Size for Clothing Items:")
print(total_purchase_by_size)




# Calculate subscription status counts by gender
subscription_gender_counts <- df %>%
  group_by(Gender, `Subscription.Status`) %>%
  summarise(n = n())

# Create stacked bar chart
ggplot(subscription_gender_counts, aes(fill=`Subscription.Status`, y=n, x=Gender)) + 
  geom_bar(position="stack", stat="identity") +
  labs(x = "Gender", y = "Count", title = "Subscription Status by Gender") +
  theme_minimal()